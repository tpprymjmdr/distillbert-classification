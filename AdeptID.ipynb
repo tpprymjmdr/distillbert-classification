{
 "cells": [
  {
   "cell_type": "markdown",
   "id": "e4848238-e604-4ac0-81e1-21e9b879fe18",
   "metadata": {},
   "source": [
    "## Data Science - Technical Exercise"
   ]
  },
  {
   "cell_type": "markdown",
   "id": "4c2edfc1-cd12-46bc-8442-68c2e2657f2a",
   "metadata": {},
   "source": [
    "We load the required libraries."
   ]
  },
  {
   "cell_type": "code",
   "execution_count": 42,
   "id": "f1e922dd-f8c9-4fb8-9212-3abf7fd95e91",
   "metadata": {},
   "outputs": [],
   "source": [
    "import pandas as pd\n",
    "import numpy as np\n",
    "import torch\n",
    "import evaluate\n",
    "\n",
    "from IPython.display import display, HTML\n",
    "from datasets import load_dataset, DatasetDict\n",
    "from transformers import (AutoTokenizer, AutoModelForSequenceClassification,\n",
    "                            DataCollatorWithPadding, TrainingArguments, Trainer)"
   ]
  },
  {
   "cell_type": "markdown",
   "id": "923b2ec7-a428-4ed9-9b34-a76deb5087c0",
   "metadata": {},
   "source": [
    "#### Exploratory Data Analysis"
   ]
  },
  {
   "cell_type": "markdown",
   "id": "7808dc26-42e5-4aca-bab0-7a7e3c93463a",
   "metadata": {},
   "source": [
    "We start by loading the data into pandas dataframes."
   ]
  },
  {
   "cell_type": "code",
   "execution_count": 2,
   "id": "44e591bd-aeec-4a3c-8c8f-fc39c9595f1a",
   "metadata": {},
   "outputs": [
    {
     "name": "stdout",
     "output_type": "stream",
     "text": [
      "<class 'pandas.core.frame.DataFrame'>\n",
      "RangeIndex: 17927 entries, 0 to 17926\n",
      "Data columns (total 6 columns):\n",
      " #   Column     Non-Null Count  Dtype \n",
      "---  ------     --------------  ----- \n",
      " 0   ID         17927 non-null  object\n",
      " 1   POSTED     17927 non-null  object\n",
      " 2   TITLE_RAW  17927 non-null  object\n",
      " 3   BODY       17927 non-null  object\n",
      " 4   ONET_NAME  17927 non-null  object\n",
      " 5   ONET       17927 non-null  object\n",
      "dtypes: object(6)\n",
      "memory usage: 840.5+ KB\n"
     ]
    }
   ],
   "source": [
    "df_train = pd.read_csv(\"data/train_data.csv\")\n",
    "df_train.info()"
   ]
  },
  {
   "cell_type": "code",
   "execution_count": 3,
   "id": "4c60783d-6b9d-42bc-8183-957119d8eacd",
   "metadata": {},
   "outputs": [
    {
     "name": "stdout",
     "output_type": "stream",
     "text": [
      "<class 'pandas.core.frame.DataFrame'>\n",
      "RangeIndex: 19394 entries, 0 to 19393\n",
      "Data columns (total 6 columns):\n",
      " #   Column     Non-Null Count  Dtype \n",
      "---  ------     --------------  ----- \n",
      " 0   ID         19394 non-null  object\n",
      " 1   POSTED     19394 non-null  object\n",
      " 2   TITLE_RAW  19394 non-null  object\n",
      " 3   BODY       19394 non-null  object\n",
      " 4   ONET_NAME  19394 non-null  object\n",
      " 5   ONET       19394 non-null  object\n",
      "dtypes: object(6)\n",
      "memory usage: 909.2+ KB\n"
     ]
    }
   ],
   "source": [
    "df_test = pd.read_csv(\"data/test_data.csv\")\n",
    "df_test.info()"
   ]
  },
  {
   "cell_type": "markdown",
   "id": "ec825430-b4f0-4803-a16d-34da7622d8a9",
   "metadata": {},
   "source": [
    "Next, we glance at the dataframes."
   ]
  },
  {
   "cell_type": "code",
   "execution_count": 4,
   "id": "e44cee19-ae12-4f1b-a623-d23f6a549d78",
   "metadata": {},
   "outputs": [
    {
     "data": {
      "text/html": [
       "<div>\n",
       "<style scoped>\n",
       "    .dataframe tbody tr th:only-of-type {\n",
       "        vertical-align: middle;\n",
       "    }\n",
       "\n",
       "    .dataframe tbody tr th {\n",
       "        vertical-align: top;\n",
       "    }\n",
       "\n",
       "    .dataframe thead th {\n",
       "        text-align: right;\n",
       "    }\n",
       "</style>\n",
       "<table border=\"1\" class=\"dataframe\">\n",
       "  <thead>\n",
       "    <tr style=\"text-align: right;\">\n",
       "      <th></th>\n",
       "      <th>ID</th>\n",
       "      <th>POSTED</th>\n",
       "      <th>TITLE_RAW</th>\n",
       "      <th>BODY</th>\n",
       "      <th>ONET_NAME</th>\n",
       "      <th>ONET</th>\n",
       "    </tr>\n",
       "  </thead>\n",
       "  <tbody>\n",
       "    <tr>\n",
       "      <th>0</th>\n",
       "      <td>3a9bc988d77e46507f6753429dd848a816d0b9b9</td>\n",
       "      <td>2023-05-03</td>\n",
       "      <td>Executive Meeting Manager</td>\n",
       "      <td>Executive Meeting Manager Marriott La Jolla - ...</td>\n",
       "      <td>Meeting, Convention, and Event Planners</td>\n",
       "      <td>13-1121.00</td>\n",
       "    </tr>\n",
       "    <tr>\n",
       "      <th>1</th>\n",
       "      <td>eb3a017370d55577e892ff8207a640b7d7136f31</td>\n",
       "      <td>2023-05-03</td>\n",
       "      <td>Rehabilitation Technician-Outpatient Rehab-Fle...</td>\n",
       "      <td>Rehabilitation Technician-Outpatient Rehab-Fle...</td>\n",
       "      <td>Occupational Therapy Aides</td>\n",
       "      <td>31-2012.00</td>\n",
       "    </tr>\n",
       "    <tr>\n",
       "      <th>2</th>\n",
       "      <td>8717d2213055d39271bd12490263a7fbe603aedb</td>\n",
       "      <td>2023-05-03</td>\n",
       "      <td>Office/Bookkeeping Assistant</td>\n",
       "      <td>Office/Bookkeeping Assistant\\nSanta Barbara, C...</td>\n",
       "      <td>Office Clerks, General</td>\n",
       "      <td>43-9061.00</td>\n",
       "    </tr>\n",
       "    <tr>\n",
       "      <th>3</th>\n",
       "      <td>43b55e4334835e20e1c64d9ac7bb0a0267369b9e</td>\n",
       "      <td>2023-05-03</td>\n",
       "      <td>Administrative Support Coordinator - VA - (REM...</td>\n",
       "      <td>Find Jobs Administrative Support Coordinator -...</td>\n",
       "      <td>Secretaries and Administrative Assistants, Exc...</td>\n",
       "      <td>43-6014.00</td>\n",
       "    </tr>\n",
       "    <tr>\n",
       "      <th>4</th>\n",
       "      <td>afa355a328687ddb88d6265a237d0375bb36eae7</td>\n",
       "      <td>2023-05-03</td>\n",
       "      <td>Receptionist/Administrative Assistant</td>\n",
       "      <td>Receptionist/Administrative Assistant Burgess ...</td>\n",
       "      <td>Secretaries and Administrative Assistants, Exc...</td>\n",
       "      <td>43-6014.00</td>\n",
       "    </tr>\n",
       "  </tbody>\n",
       "</table>\n",
       "</div>"
      ],
      "text/plain": [
       "                                         ID      POSTED  \\\n",
       "0  3a9bc988d77e46507f6753429dd848a816d0b9b9  2023-05-03   \n",
       "1  eb3a017370d55577e892ff8207a640b7d7136f31  2023-05-03   \n",
       "2  8717d2213055d39271bd12490263a7fbe603aedb  2023-05-03   \n",
       "3  43b55e4334835e20e1c64d9ac7bb0a0267369b9e  2023-05-03   \n",
       "4  afa355a328687ddb88d6265a237d0375bb36eae7  2023-05-03   \n",
       "\n",
       "                                           TITLE_RAW  \\\n",
       "0                          Executive Meeting Manager   \n",
       "1  Rehabilitation Technician-Outpatient Rehab-Fle...   \n",
       "2                       Office/Bookkeeping Assistant   \n",
       "3  Administrative Support Coordinator - VA - (REM...   \n",
       "4              Receptionist/Administrative Assistant   \n",
       "\n",
       "                                                BODY  \\\n",
       "0  Executive Meeting Manager Marriott La Jolla - ...   \n",
       "1  Rehabilitation Technician-Outpatient Rehab-Fle...   \n",
       "2  Office/Bookkeeping Assistant\\nSanta Barbara, C...   \n",
       "3  Find Jobs Administrative Support Coordinator -...   \n",
       "4  Receptionist/Administrative Assistant Burgess ...   \n",
       "\n",
       "                                           ONET_NAME        ONET  \n",
       "0            Meeting, Convention, and Event Planners  13-1121.00  \n",
       "1                         Occupational Therapy Aides  31-2012.00  \n",
       "2                             Office Clerks, General  43-9061.00  \n",
       "3  Secretaries and Administrative Assistants, Exc...  43-6014.00  \n",
       "4  Secretaries and Administrative Assistants, Exc...  43-6014.00  "
      ]
     },
     "execution_count": 4,
     "metadata": {},
     "output_type": "execute_result"
    }
   ],
   "source": [
    "df_train.head()"
   ]
  },
  {
   "cell_type": "code",
   "execution_count": 5,
   "id": "8d00cc6b-153c-4007-a4b7-b366095af071",
   "metadata": {},
   "outputs": [
    {
     "data": {
      "text/html": [
       "<div>\n",
       "<style scoped>\n",
       "    .dataframe tbody tr th:only-of-type {\n",
       "        vertical-align: middle;\n",
       "    }\n",
       "\n",
       "    .dataframe tbody tr th {\n",
       "        vertical-align: top;\n",
       "    }\n",
       "\n",
       "    .dataframe thead th {\n",
       "        text-align: right;\n",
       "    }\n",
       "</style>\n",
       "<table border=\"1\" class=\"dataframe\">\n",
       "  <thead>\n",
       "    <tr style=\"text-align: right;\">\n",
       "      <th></th>\n",
       "      <th>ID</th>\n",
       "      <th>POSTED</th>\n",
       "      <th>TITLE_RAW</th>\n",
       "      <th>BODY</th>\n",
       "      <th>ONET_NAME</th>\n",
       "      <th>ONET</th>\n",
       "    </tr>\n",
       "  </thead>\n",
       "  <tbody>\n",
       "    <tr>\n",
       "      <th>0</th>\n",
       "      <td>3a9bc988d77e46507f6753429dd848a816d0b9b9</td>\n",
       "      <td>2023-05-03</td>\n",
       "      <td>Executive Meeting Manager</td>\n",
       "      <td>Executive Meeting Manager Marriott La Jolla - ...</td>\n",
       "      <td>Meeting, Convention, and Event Planners</td>\n",
       "      <td>13-1121.00</td>\n",
       "    </tr>\n",
       "    <tr>\n",
       "      <th>1</th>\n",
       "      <td>eb3a017370d55577e892ff8207a640b7d7136f31</td>\n",
       "      <td>2023-05-03</td>\n",
       "      <td>Rehabilitation Technician-Outpatient Rehab-Fle...</td>\n",
       "      <td>Rehabilitation Technician-Outpatient Rehab-Fle...</td>\n",
       "      <td>Occupational Therapy Aides</td>\n",
       "      <td>31-2012.00</td>\n",
       "    </tr>\n",
       "    <tr>\n",
       "      <th>2</th>\n",
       "      <td>8717d2213055d39271bd12490263a7fbe603aedb</td>\n",
       "      <td>2023-05-03</td>\n",
       "      <td>Office/Bookkeeping Assistant</td>\n",
       "      <td>Office/Bookkeeping Assistant\\nSanta Barbara, C...</td>\n",
       "      <td>Office Clerks, General</td>\n",
       "      <td>43-9061.00</td>\n",
       "    </tr>\n",
       "    <tr>\n",
       "      <th>3</th>\n",
       "      <td>43b55e4334835e20e1c64d9ac7bb0a0267369b9e</td>\n",
       "      <td>2023-05-03</td>\n",
       "      <td>Administrative Support Coordinator - VA - (REM...</td>\n",
       "      <td>Find Jobs Administrative Support Coordinator -...</td>\n",
       "      <td>Secretaries and Administrative Assistants, Exc...</td>\n",
       "      <td>43-6014.00</td>\n",
       "    </tr>\n",
       "    <tr>\n",
       "      <th>4</th>\n",
       "      <td>afa355a328687ddb88d6265a237d0375bb36eae7</td>\n",
       "      <td>2023-05-03</td>\n",
       "      <td>Receptionist/Administrative Assistant</td>\n",
       "      <td>Receptionist/Administrative Assistant Burgess ...</td>\n",
       "      <td>Secretaries and Administrative Assistants, Exc...</td>\n",
       "      <td>43-6014.00</td>\n",
       "    </tr>\n",
       "  </tbody>\n",
       "</table>\n",
       "</div>"
      ],
      "text/plain": [
       "                                         ID      POSTED  \\\n",
       "0  3a9bc988d77e46507f6753429dd848a816d0b9b9  2023-05-03   \n",
       "1  eb3a017370d55577e892ff8207a640b7d7136f31  2023-05-03   \n",
       "2  8717d2213055d39271bd12490263a7fbe603aedb  2023-05-03   \n",
       "3  43b55e4334835e20e1c64d9ac7bb0a0267369b9e  2023-05-03   \n",
       "4  afa355a328687ddb88d6265a237d0375bb36eae7  2023-05-03   \n",
       "\n",
       "                                           TITLE_RAW  \\\n",
       "0                          Executive Meeting Manager   \n",
       "1  Rehabilitation Technician-Outpatient Rehab-Fle...   \n",
       "2                       Office/Bookkeeping Assistant   \n",
       "3  Administrative Support Coordinator - VA - (REM...   \n",
       "4              Receptionist/Administrative Assistant   \n",
       "\n",
       "                                                BODY  \\\n",
       "0  Executive Meeting Manager Marriott La Jolla - ...   \n",
       "1  Rehabilitation Technician-Outpatient Rehab-Fle...   \n",
       "2  Office/Bookkeeping Assistant\\nSanta Barbara, C...   \n",
       "3  Find Jobs Administrative Support Coordinator -...   \n",
       "4  Receptionist/Administrative Assistant Burgess ...   \n",
       "\n",
       "                                           ONET_NAME        ONET  \n",
       "0            Meeting, Convention, and Event Planners  13-1121.00  \n",
       "1                         Occupational Therapy Aides  31-2012.00  \n",
       "2                             Office Clerks, General  43-9061.00  \n",
       "3  Secretaries and Administrative Assistants, Exc...  43-6014.00  \n",
       "4  Secretaries and Administrative Assistants, Exc...  43-6014.00  "
      ]
     },
     "execution_count": 5,
     "metadata": {},
     "output_type": "execute_result"
    }
   ],
   "source": [
    "df_train.head()"
   ]
  },
  {
   "cell_type": "markdown",
   "id": "769a697e-c687-44e8-ad82-35ea6c143270",
   "metadata": {},
   "source": [
    "We find the total number of unique `ONET_CODE`s"
   ]
  },
  {
   "cell_type": "code",
   "execution_count": 6,
   "id": "b9a55db7-91fd-4659-aed2-00119bf9157a",
   "metadata": {},
   "outputs": [
    {
     "data": {
      "text/html": [
       "<div>\n",
       "<style scoped>\n",
       "    .dataframe tbody tr th:only-of-type {\n",
       "        vertical-align: middle;\n",
       "    }\n",
       "\n",
       "    .dataframe tbody tr th {\n",
       "        vertical-align: top;\n",
       "    }\n",
       "\n",
       "    .dataframe thead th {\n",
       "        text-align: right;\n",
       "    }\n",
       "</style>\n",
       "<table border=\"1\" class=\"dataframe\">\n",
       "  <thead>\n",
       "    <tr style=\"text-align: right;\">\n",
       "      <th></th>\n",
       "      <th>ONET</th>\n",
       "      <th>count</th>\n",
       "    </tr>\n",
       "  </thead>\n",
       "  <tbody>\n",
       "    <tr>\n",
       "      <th>0</th>\n",
       "      <td>29-1141.00</td>\n",
       "      <td>959</td>\n",
       "    </tr>\n",
       "    <tr>\n",
       "      <th>1</th>\n",
       "      <td>41-2031.00</td>\n",
       "      <td>627</td>\n",
       "    </tr>\n",
       "    <tr>\n",
       "      <th>2</th>\n",
       "      <td>99-9999.00</td>\n",
       "      <td>608</td>\n",
       "    </tr>\n",
       "    <tr>\n",
       "      <th>3</th>\n",
       "      <td>41-1011.00</td>\n",
       "      <td>445</td>\n",
       "    </tr>\n",
       "    <tr>\n",
       "      <th>4</th>\n",
       "      <td>41-4012.00</td>\n",
       "      <td>407</td>\n",
       "    </tr>\n",
       "    <tr>\n",
       "      <th>...</th>\n",
       "      <td>...</td>\n",
       "      <td>...</td>\n",
       "    </tr>\n",
       "    <tr>\n",
       "      <th>694</th>\n",
       "      <td>53-1042.01</td>\n",
       "      <td>1</td>\n",
       "    </tr>\n",
       "    <tr>\n",
       "      <th>695</th>\n",
       "      <td>51-8011.00</td>\n",
       "      <td>1</td>\n",
       "    </tr>\n",
       "    <tr>\n",
       "      <th>696</th>\n",
       "      <td>13-2053.00</td>\n",
       "      <td>1</td>\n",
       "    </tr>\n",
       "    <tr>\n",
       "      <th>697</th>\n",
       "      <td>29-1129.00</td>\n",
       "      <td>1</td>\n",
       "    </tr>\n",
       "    <tr>\n",
       "      <th>698</th>\n",
       "      <td>43-5041.00</td>\n",
       "      <td>1</td>\n",
       "    </tr>\n",
       "  </tbody>\n",
       "</table>\n",
       "<p>699 rows × 2 columns</p>\n",
       "</div>"
      ],
      "text/plain": [
       "           ONET  count\n",
       "0    29-1141.00    959\n",
       "1    41-2031.00    627\n",
       "2    99-9999.00    608\n",
       "3    41-1011.00    445\n",
       "4    41-4012.00    407\n",
       "..          ...    ...\n",
       "694  53-1042.01      1\n",
       "695  51-8011.00      1\n",
       "696  13-2053.00      1\n",
       "697  29-1129.00      1\n",
       "698  43-5041.00      1\n",
       "\n",
       "[699 rows x 2 columns]"
      ]
     },
     "execution_count": 6,
     "metadata": {},
     "output_type": "execute_result"
    }
   ],
   "source": [
    "onet_counts_train = df_train.ONET.value_counts().to_frame().reset_index()\n",
    "onet_counts_train"
   ]
  },
  {
   "cell_type": "code",
   "execution_count": 7,
   "id": "c8e77ac3-e97a-4c9c-b796-090279102ce6",
   "metadata": {},
   "outputs": [
    {
     "data": {
      "text/html": [
       "<div>\n",
       "<style scoped>\n",
       "    .dataframe tbody tr th:only-of-type {\n",
       "        vertical-align: middle;\n",
       "    }\n",
       "\n",
       "    .dataframe tbody tr th {\n",
       "        vertical-align: top;\n",
       "    }\n",
       "\n",
       "    .dataframe thead th {\n",
       "        text-align: right;\n",
       "    }\n",
       "</style>\n",
       "<table border=\"1\" class=\"dataframe\">\n",
       "  <thead>\n",
       "    <tr style=\"text-align: right;\">\n",
       "      <th></th>\n",
       "      <th>ONET</th>\n",
       "      <th>count</th>\n",
       "    </tr>\n",
       "  </thead>\n",
       "  <tbody>\n",
       "    <tr>\n",
       "      <th>0</th>\n",
       "      <td>29-1141.00</td>\n",
       "      <td>765</td>\n",
       "    </tr>\n",
       "    <tr>\n",
       "      <th>1</th>\n",
       "      <td>99-9999.00</td>\n",
       "      <td>763</td>\n",
       "    </tr>\n",
       "    <tr>\n",
       "      <th>2</th>\n",
       "      <td>15-1252.00</td>\n",
       "      <td>526</td>\n",
       "    </tr>\n",
       "    <tr>\n",
       "      <th>3</th>\n",
       "      <td>41-4012.00</td>\n",
       "      <td>471</td>\n",
       "    </tr>\n",
       "    <tr>\n",
       "      <th>4</th>\n",
       "      <td>41-2031.00</td>\n",
       "      <td>434</td>\n",
       "    </tr>\n",
       "    <tr>\n",
       "      <th>...</th>\n",
       "      <td>...</td>\n",
       "      <td>...</td>\n",
       "    </tr>\n",
       "    <tr>\n",
       "      <th>703</th>\n",
       "      <td>49-2021.00</td>\n",
       "      <td>1</td>\n",
       "    </tr>\n",
       "    <tr>\n",
       "      <th>704</th>\n",
       "      <td>13-1041.00</td>\n",
       "      <td>1</td>\n",
       "    </tr>\n",
       "    <tr>\n",
       "      <th>705</th>\n",
       "      <td>19-3093.00</td>\n",
       "      <td>1</td>\n",
       "    </tr>\n",
       "    <tr>\n",
       "      <th>706</th>\n",
       "      <td>35-2012.00</td>\n",
       "      <td>1</td>\n",
       "    </tr>\n",
       "    <tr>\n",
       "      <th>707</th>\n",
       "      <td>11-9161.00</td>\n",
       "      <td>1</td>\n",
       "    </tr>\n",
       "  </tbody>\n",
       "</table>\n",
       "<p>708 rows × 2 columns</p>\n",
       "</div>"
      ],
      "text/plain": [
       "           ONET  count\n",
       "0    29-1141.00    765\n",
       "1    99-9999.00    763\n",
       "2    15-1252.00    526\n",
       "3    41-4012.00    471\n",
       "4    41-2031.00    434\n",
       "..          ...    ...\n",
       "703  49-2021.00      1\n",
       "704  13-1041.00      1\n",
       "705  19-3093.00      1\n",
       "706  35-2012.00      1\n",
       "707  11-9161.00      1\n",
       "\n",
       "[708 rows x 2 columns]"
      ]
     },
     "execution_count": 7,
     "metadata": {},
     "output_type": "execute_result"
    }
   ],
   "source": [
    "onet_counts_test = df_test.ONET.value_counts().to_frame().reset_index()\n",
    "onet_counts_test"
   ]
  },
  {
   "cell_type": "markdown",
   "id": "50c7905c-29f8-4767-a70f-9c08acfc4322",
   "metadata": {},
   "source": [
    "As the numbers are different, we check the number of IDs in exactly one dataframe as well as the number of common IDs."
   ]
  },
  {
   "cell_type": "code",
   "execution_count": 8,
   "id": "017ba113-ccde-4a9c-8ab8-b78a4645b4e4",
   "metadata": {},
   "outputs": [
    {
     "name": "stdout",
     "output_type": "stream",
     "text": [
      "Number of IDs only in TRAIN: 97\n",
      "Number of IDs only in TEST: 106\n",
      "Number of common IDs only in TRAIN: 602\n"
     ]
    }
   ],
   "source": [
    "print(f\"Number of IDs only in TRAIN: {len(set(onet_counts_train.ONET.values) - set(onet_counts_test.ONET.values))}\")\n",
    "print(f\"Number of IDs only in TEST: {len(set(onet_counts_test.ONET.values) - set(onet_counts_train.ONET.values))}\")\n",
    "print(f\"Number of common IDs only in TRAIN: {len(set(onet_counts_train.ONET.values) & set(onet_counts_test.ONET.values))}\")"
   ]
  },
  {
   "cell_type": "markdown",
   "id": "2b746fd8-3697-4ab1-8103-79903b868273",
   "metadata": {},
   "source": [
    "#### Data Preparation & Fine-Tuning"
   ]
  },
  {
   "cell_type": "markdown",
   "id": "40e78e22-e8b5-4c32-9e4d-dacc9a7e4c15",
   "metadata": {},
   "source": [
    "First, we load the CSV files into a Huggingface Dataset. We also take out 20% of the training data to form a validation set."
   ]
  },
  {
   "cell_type": "code",
   "execution_count": 9,
   "id": "50935e6f-502e-444d-b4b9-c83ac8b5ec4d",
   "metadata": {},
   "outputs": [],
   "source": [
    "train_ds = load_dataset(\"csv\", data_files=\"data/train_data.csv\", split=\"train\")\n",
    "trainval_ds = train_ds.train_test_split(test_size=0.2, shuffle=True, seed=42)\n",
    "test_ds = load_dataset(\"csv\", data_files=\"data/test_data.csv\", split=\"train\")\n",
    "\n",
    "dataset = DatasetDict({\n",
    "    'train': trainval_ds['train'],\n",
    "    'validation': trainval_ds['test'],\n",
    "    'test': test_ds\n",
    "})"
   ]
  },
  {
   "cell_type": "code",
   "execution_count": 10,
   "id": "cb2e835a-f3d3-4aa6-a606-2576dac75109",
   "metadata": {},
   "outputs": [
    {
     "data": {
      "text/plain": [
       "DatasetDict({\n",
       "    train: Dataset({\n",
       "        features: ['ID', 'POSTED', 'TITLE_RAW', 'BODY', 'ONET_NAME', 'ONET'],\n",
       "        num_rows: 14341\n",
       "    })\n",
       "    validation: Dataset({\n",
       "        features: ['ID', 'POSTED', 'TITLE_RAW', 'BODY', 'ONET_NAME', 'ONET'],\n",
       "        num_rows: 3586\n",
       "    })\n",
       "    test: Dataset({\n",
       "        features: ['ID', 'POSTED', 'TITLE_RAW', 'BODY', 'ONET_NAME', 'ONET'],\n",
       "        num_rows: 19394\n",
       "    })\n",
       "})"
      ]
     },
     "execution_count": 10,
     "metadata": {},
     "output_type": "execute_result"
    }
   ],
   "source": [
    "dataset"
   ]
  },
  {
   "cell_type": "markdown",
   "id": "a586ecff-0eba-4c91-8774-d8999481617a",
   "metadata": {},
   "source": [
    "The model expects integer labels, so we create dictionaries to convert `ONET`s to integer labels and put them in the `labels` column. We also define `num_labels` to be the total number of classes in the training and validation sets."
   ]
  },
  {
   "cell_type": "code",
   "execution_count": 11,
   "id": "862eac64-7f61-49d3-ba48-ed7f36a91dc0",
   "metadata": {},
   "outputs": [
    {
     "data": {
      "application/vnd.jupyter.widget-view+json": {
       "model_id": "08a09aa4cd864339813b4abac7c03de7",
       "version_major": 2,
       "version_minor": 0
      },
      "text/plain": [
       "Map:   0%|          | 0/14341 [00:00<?, ? examples/s]"
      ]
     },
     "metadata": {},
     "output_type": "display_data"
    },
    {
     "data": {
      "application/vnd.jupyter.widget-view+json": {
       "model_id": "d09b75b7f6de42f4b4c716ed08f4a41a",
       "version_major": 2,
       "version_minor": 0
      },
      "text/plain": [
       "Map:   0%|          | 0/3586 [00:00<?, ? examples/s]"
      ]
     },
     "metadata": {},
     "output_type": "display_data"
    },
    {
     "data": {
      "application/vnd.jupyter.widget-view+json": {
       "model_id": "0c927e60dd5c4eafaff485233fc39619",
       "version_major": 2,
       "version_minor": 0
      },
      "text/plain": [
       "Map:   0%|          | 0/19394 [00:00<?, ? examples/s]"
      ]
     },
     "metadata": {},
     "output_type": "display_data"
    }
   ],
   "source": [
    "# Get the unique labels in training and validation and create a dictionary mapping\n",
    "unique_ids = np.unique(dataset['train']['ONET_NAME'] + dataset['validation']['ONET_NAME'])\n",
    "id2label = {id: i for i, id in enumerate(unique_ids)}\n",
    "num_labels = len(id2label)\n",
    "# add extra ids from the test set\n",
    "for i, id in enumerate(list(set(dataset['test']['ONET_NAME']) - set(id2label.keys()))):\n",
    "    id2label[id] = num_labels + i\n",
    "# define the reverse\n",
    "label2id = {label:i for i, label in id2label.items()}\n",
    "\n",
    "# Add a new 'labels' column to the dataset\n",
    "dataset = dataset.map(lambda examples: {'labels': [id2label[id] for id in examples['ONET_NAME']]}, batched=True)"
   ]
  },
  {
   "cell_type": "markdown",
   "id": "b3a52409-38a1-40ab-9844-c4730c207cf1",
   "metadata": {},
   "source": [
    "Next, we load a DistilBERT tokenizer to preprocess the text field."
   ]
  },
  {
   "cell_type": "code",
   "execution_count": 12,
   "id": "22f0da1e-bb56-4e24-b0f7-aa79bb720d93",
   "metadata": {
    "scrolled": true
   },
   "outputs": [],
   "source": [
    "# Specify the name of the pretrained model\n",
    "model_name = 'distilbert-base-uncased'\n",
    "\n",
    "# Load the tokenizer and the model\n",
    "tokenizer = AutoTokenizer.from_pretrained(model_name)"
   ]
  },
  {
   "cell_type": "markdown",
   "id": "a731a989-8dd5-4c22-b7b8-619906baf406",
   "metadata": {},
   "source": [
    "Create a preprocessing function to tokenize the `BODY` column and truncate sequences."
   ]
  },
  {
   "cell_type": "code",
   "execution_count": 14,
   "id": "22836737-e908-46a5-acd0-48647670d46e",
   "metadata": {},
   "outputs": [],
   "source": [
    "# Define a function to tokenize the dataset\n",
    "def tokenize(batch):\n",
    "    return tokenizer(batch['BODY'], truncation=True) "
   ]
  },
  {
   "cell_type": "markdown",
   "id": "f7337cc0-10d2-4dc8-b5a9-b8242c7bf49b",
   "metadata": {},
   "source": [
    "Tokenize the dataset."
   ]
  },
  {
   "cell_type": "code",
   "execution_count": 15,
   "id": "8da51e42-45e2-4b14-b9bf-155a5bbe05d8",
   "metadata": {},
   "outputs": [
    {
     "data": {
      "application/vnd.jupyter.widget-view+json": {
       "model_id": "e42b2c8b1c004928866619df84104603",
       "version_major": 2,
       "version_minor": 0
      },
      "text/plain": [
       "Map:   0%|          | 0/14341 [00:00<?, ? examples/s]"
      ]
     },
     "metadata": {},
     "output_type": "display_data"
    },
    {
     "data": {
      "application/vnd.jupyter.widget-view+json": {
       "model_id": "9c77c68ab9074928ad907e8e615e880c",
       "version_major": 2,
       "version_minor": 0
      },
      "text/plain": [
       "Map:   0%|          | 0/3586 [00:00<?, ? examples/s]"
      ]
     },
     "metadata": {},
     "output_type": "display_data"
    },
    {
     "data": {
      "application/vnd.jupyter.widget-view+json": {
       "model_id": "91322c6ee4b04a6ba0aacdb53f2bb23c",
       "version_major": 2,
       "version_minor": 0
      },
      "text/plain": [
       "Map:   0%|          | 0/19394 [00:00<?, ? examples/s]"
      ]
     },
     "metadata": {},
     "output_type": "display_data"
    }
   ],
   "source": [
    "tokenized_dataset = dataset.map(tokenize, batched=True, batch_size=len(dataset))"
   ]
  },
  {
   "cell_type": "code",
   "execution_count": 16,
   "id": "0762463d-4702-4e2a-b161-5ebdc7ef1363",
   "metadata": {},
   "outputs": [
    {
     "data": {
      "text/plain": [
       "DatasetDict({\n",
       "    train: Dataset({\n",
       "        features: ['ID', 'POSTED', 'TITLE_RAW', 'BODY', 'ONET_NAME', 'ONET', 'labels', 'input_ids', 'attention_mask'],\n",
       "        num_rows: 14341\n",
       "    })\n",
       "    validation: Dataset({\n",
       "        features: ['ID', 'POSTED', 'TITLE_RAW', 'BODY', 'ONET_NAME', 'ONET', 'labels', 'input_ids', 'attention_mask'],\n",
       "        num_rows: 3586\n",
       "    })\n",
       "    test: Dataset({\n",
       "        features: ['ID', 'POSTED', 'TITLE_RAW', 'BODY', 'ONET_NAME', 'ONET', 'labels', 'input_ids', 'attention_mask'],\n",
       "        num_rows: 19394\n",
       "    })\n",
       "})"
      ]
     },
     "execution_count": 16,
     "metadata": {},
     "output_type": "execute_result"
    }
   ],
   "source": [
    "tokenized_dataset"
   ]
  },
  {
   "cell_type": "markdown",
   "id": "60ee2849-0ae0-43c5-96f9-c0e1975d3a22",
   "metadata": {},
   "source": [
    "We also load a metric to evaluate the performance of the model while training."
   ]
  },
  {
   "cell_type": "code",
   "execution_count": 17,
   "id": "286e6a13-8bce-466c-a7df-52a3cb6e4f00",
   "metadata": {},
   "outputs": [],
   "source": [
    "f1_metric = evaluate.load(\"f1\")\n",
    "\n",
    "def compute_metrics(eval_pred):\n",
    "    predictions, labels = eval_pred\n",
    "    predictions = np.argmax(predictions, axis=1)\n",
    "    return f1_metric.compute(predictions=predictions, references=labels, average=\"weighted\")"
   ]
  },
  {
   "cell_type": "markdown",
   "id": "49d51b10-37ad-440b-8921-2075d63a217e",
   "metadata": {},
   "source": [
    "Finally, we load DistilBERT with `AutoModelForSequenceClassification` along with the number of expected labels."
   ]
  },
  {
   "cell_type": "code",
   "execution_count": 18,
   "id": "9161f7a8-4b68-45c3-9d13-2043c3c85157",
   "metadata": {},
   "outputs": [
    {
     "data": {
      "text/plain": [
       "device(type='cuda')"
      ]
     },
     "execution_count": 18,
     "metadata": {},
     "output_type": "execute_result"
    }
   ],
   "source": [
    "# Use GPU for computation if possible.\n",
    "device = torch.device('cuda' if torch.cuda.is_available() else 'cpu')\n",
    "device"
   ]
  },
  {
   "cell_type": "code",
   "execution_count": 19,
   "id": "4776de09-9dd7-4021-9ed7-1705ef17d034",
   "metadata": {},
   "outputs": [
    {
     "name": "stderr",
     "output_type": "stream",
     "text": [
      "Some weights of DistilBertForSequenceClassification were not initialized from the model checkpoint at distilbert-base-uncased and are newly initialized: ['pre_classifier.bias', 'pre_classifier.weight', 'classifier.bias', 'classifier.weight']\n",
      "You should probably TRAIN this model on a down-stream task to be able to use it for predictions and inference.\n"
     ]
    }
   ],
   "source": [
    "model = AutoModelForSequenceClassification.from_pretrained(model_name, num_labels=num_labels)\n",
    "model = model.to(device)"
   ]
  },
  {
   "cell_type": "code",
   "execution_count": 20,
   "id": "1984aed8-1abb-4962-b4ab-6311d5b71aa3",
   "metadata": {},
   "outputs": [
    {
     "data": {
      "text/plain": [
       "DistilBertForSequenceClassification(\n",
       "  (distilbert): DistilBertModel(\n",
       "    (embeddings): Embeddings(\n",
       "      (word_embeddings): Embedding(30522, 768, padding_idx=0)\n",
       "      (position_embeddings): Embedding(512, 768)\n",
       "      (LayerNorm): LayerNorm((768,), eps=1e-12, elementwise_affine=True)\n",
       "      (dropout): Dropout(p=0.1, inplace=False)\n",
       "    )\n",
       "    (transformer): Transformer(\n",
       "      (layer): ModuleList(\n",
       "        (0-5): 6 x TransformerBlock(\n",
       "          (attention): MultiHeadSelfAttention(\n",
       "            (dropout): Dropout(p=0.1, inplace=False)\n",
       "            (q_lin): Linear(in_features=768, out_features=768, bias=True)\n",
       "            (k_lin): Linear(in_features=768, out_features=768, bias=True)\n",
       "            (v_lin): Linear(in_features=768, out_features=768, bias=True)\n",
       "            (out_lin): Linear(in_features=768, out_features=768, bias=True)\n",
       "          )\n",
       "          (sa_layer_norm): LayerNorm((768,), eps=1e-12, elementwise_affine=True)\n",
       "          (ffn): FFN(\n",
       "            (dropout): Dropout(p=0.1, inplace=False)\n",
       "            (lin1): Linear(in_features=768, out_features=3072, bias=True)\n",
       "            (lin2): Linear(in_features=3072, out_features=768, bias=True)\n",
       "            (activation): GELUActivation()\n",
       "          )\n",
       "          (output_layer_norm): LayerNorm((768,), eps=1e-12, elementwise_affine=True)\n",
       "        )\n",
       "      )\n",
       "    )\n",
       "  )\n",
       "  (pre_classifier): Linear(in_features=768, out_features=768, bias=True)\n",
       "  (classifier): Linear(in_features=768, out_features=699, bias=True)\n",
       "  (dropout): Dropout(p=0.2, inplace=False)\n",
       ")"
      ]
     },
     "execution_count": 20,
     "metadata": {},
     "output_type": "execute_result"
    }
   ],
   "source": [
    "model"
   ]
  },
  {
   "cell_type": "markdown",
   "id": "9c82cce5-7ea5-437a-b51a-53bbae9cc99e",
   "metadata": {},
   "source": [
    "We define the training hyperparameters, pass them along to the `Trainer` and finetune the model for a few epochs."
   ]
  },
  {
   "cell_type": "code",
   "execution_count": 21,
   "id": "536d26de-3fa3-455f-b585-6206b3080dda",
   "metadata": {},
   "outputs": [
    {
     "name": "stderr",
     "output_type": "stream",
     "text": [
      "Detected kernel version 5.4.0, which is below the recommended minimum of 5.5.0; this can cause the process to hang. It is recommended to upgrade the kernel to the minimum version or higher.\n",
      "You're using a DistilBertTokenizerFast tokenizer. Please note that with a fast tokenizer, using the `__call__` method is faster than using a method to encode the text followed by a call to the `pad` method to get a padded encoding.\n"
     ]
    },
    {
     "data": {
      "text/html": [
       "\n",
       "    <div>\n",
       "      \n",
       "      <progress value='7176' max='7176' style='width:300px; height:20px; vertical-align: middle;'></progress>\n",
       "      [7176/7176 33:26, Epoch 8/8]\n",
       "    </div>\n",
       "    <table border=\"1\" class=\"dataframe\">\n",
       "  <thead>\n",
       " <tr style=\"text-align: left;\">\n",
       "      <th>Epoch</th>\n",
       "      <th>Training Loss</th>\n",
       "      <th>Validation Loss</th>\n",
       "      <th>F1</th>\n",
       "    </tr>\n",
       "  </thead>\n",
       "  <tbody>\n",
       "    <tr>\n",
       "      <td>1</td>\n",
       "      <td>5.693100</td>\n",
       "      <td>3.302109</td>\n",
       "      <td>0.309772</td>\n",
       "    </tr>\n",
       "    <tr>\n",
       "      <td>2</td>\n",
       "      <td>2.789200</td>\n",
       "      <td>2.395150</td>\n",
       "      <td>0.480812</td>\n",
       "    </tr>\n",
       "    <tr>\n",
       "      <td>3</td>\n",
       "      <td>1.882800</td>\n",
       "      <td>2.055944</td>\n",
       "      <td>0.565727</td>\n",
       "    </tr>\n",
       "    <tr>\n",
       "      <td>4</td>\n",
       "      <td>1.306500</td>\n",
       "      <td>1.898311</td>\n",
       "      <td>0.610321</td>\n",
       "    </tr>\n",
       "    <tr>\n",
       "      <td>5</td>\n",
       "      <td>1.085400</td>\n",
       "      <td>1.823050</td>\n",
       "      <td>0.630892</td>\n",
       "    </tr>\n",
       "    <tr>\n",
       "      <td>6</td>\n",
       "      <td>0.745900</td>\n",
       "      <td>1.818870</td>\n",
       "      <td>0.651258</td>\n",
       "    </tr>\n",
       "    <tr>\n",
       "      <td>7</td>\n",
       "      <td>0.566100</td>\n",
       "      <td>1.839117</td>\n",
       "      <td>0.659924</td>\n",
       "    </tr>\n",
       "    <tr>\n",
       "      <td>8</td>\n",
       "      <td>0.468700</td>\n",
       "      <td>1.839912</td>\n",
       "      <td>0.661965</td>\n",
       "    </tr>\n",
       "  </tbody>\n",
       "</table><p>"
      ],
      "text/plain": [
       "<IPython.core.display.HTML object>"
      ]
     },
     "metadata": {},
     "output_type": "display_data"
    },
    {
     "data": {
      "text/plain": [
       "TrainOutput(global_step=7176, training_loss=1.7007938319092477, metrics={'train_runtime': 2008.671, 'train_samples_per_second': 57.116, 'train_steps_per_second': 3.573, 'total_flos': 1.5386627452870656e+16, 'train_loss': 1.7007938319092477, 'epoch': 8.0})"
      ]
     },
     "execution_count": 21,
     "metadata": {},
     "output_type": "execute_result"
    }
   ],
   "source": [
    "training_args = TrainingArguments(\n",
    "    output_dir='./sequence-classification-model',\n",
    "    num_train_epochs=8,\n",
    "    per_device_train_batch_size=16,\n",
    "    per_device_eval_batch_size=64,\n",
    "    warmup_steps=500,\n",
    "    weight_decay=0.01,\n",
    "    logging_dir='./sequence-classification-logs',\n",
    "    save_total_limit=2,\n",
    "    load_best_model_at_end=True,\n",
    "    evaluation_strategy=\"epoch\",\n",
    "    save_strategy=\"epoch\",\n",
    "    push_to_hub=False\n",
    ")\n",
    "\n",
    "trainer = Trainer(\n",
    "    model=model,\n",
    "    args=training_args,\n",
    "    train_dataset=tokenized_dataset[\"train\"],\n",
    "    eval_dataset=tokenized_dataset[\"validation\"],\n",
    "    tokenizer=tokenizer,\n",
    "    data_collator=DataCollatorWithPadding(tokenizer=tokenizer),\n",
    "    compute_metrics=compute_metrics\n",
    ")\n",
    "\n",
    "trainer.train()"
   ]
  },
  {
   "cell_type": "markdown",
   "id": "452a35e2-142d-4dc9-a389-98d3914ff733",
   "metadata": {},
   "source": [
    "#### Effectiveness of the model"
   ]
  },
  {
   "cell_type": "markdown",
   "id": "cdd6468d-3548-4a09-b4d6-0296287524c1",
   "metadata": {},
   "source": [
    "We define a function to predict the top N labels for each posting."
   ]
  },
  {
   "cell_type": "code",
   "execution_count": 31,
   "id": "8aa21604-b1cd-4773-8a88-72840667c493",
   "metadata": {},
   "outputs": [],
   "source": [
    "def predict(self, text_inputs, top_N=1, batch_size=64):\n",
    "    \"\"\"\n",
    "    Predicts the top N ONET IDs, associated labels\n",
    "    and their probabilities for the given texts inputs\n",
    "    \"\"\"\n",
    "    # Prepare the inputs\n",
    "    inputs = tokenizer(text_inputs, return_tensors='pt', truncation=True, padding=True)\n",
    "    inputs = {name: tensor.to(self.device) for name, tensor in inputs.items()}\n",
    "\n",
    "    # Initialize lists to hold the outputs\n",
    "    all_labels = []\n",
    "    all_probs = []\n",
    "    \n",
    "    # Process the inputs in batches\n",
    "    for i in range(0, len(text_inputs), batch_size):\n",
    "        batch_inputs = {name: tensor[i:i+batch_size] for name, tensor in inputs.items()}\n",
    "        \n",
    "        # Get the model outputs\n",
    "        with torch.no_grad():\n",
    "            outputs = self(**batch_inputs)\n",
    "\n",
    "        # Compute the softmax, get the top N probabilities and their indices\n",
    "        probs = torch.nn.functional.softmax(outputs.logits, dim=-1)\n",
    "        top_probs, top_labels = torch.topk(probs, top_N)\n",
    "        \n",
    "        # Append the results to the lists\n",
    "        all_labels.extend(top_labels)\n",
    "        all_probs.extend(top_probs)\n",
    "\n",
    "    # Convert the lists to PyTorch tensors\n",
    "    all_labels = torch.stack(all_labels)\n",
    "    all_probs = torch.stack(all_probs)\n",
    "    # Get the ONET IDs\n",
    "    all_ids = [[label2id[idx] for idx in row] for row in all_labels.cpu().numpy().tolist()]\n",
    "\n",
    "    return all_ids, all_labels, all_probs"
   ]
  },
  {
   "cell_type": "markdown",
   "id": "76e45b98-e405-471a-81d8-80da14949d96",
   "metadata": {},
   "source": [
    "Also, add a method to find the top N accuracy score."
   ]
  },
  {
   "cell_type": "code",
   "execution_count": 32,
   "id": "c662c3f2-1678-4c76-b0cd-74fcfa78dcf3",
   "metadata": {},
   "outputs": [],
   "source": [
    "def top_N_accuracy_score(self, text_inputs, labels, top_N=1, batch_size=64):\n",
    "    \"\"\"\n",
    "    Get the top N accuracy score\n",
    "    \"\"\"\n",
    "    labels = torch.tensor(labels).to(device)\n",
    "    _, best_N_labels, _ = predict(self, text_inputs, top_N=top_N, batch_size=batch_size)    \n",
    "\n",
    "    correct_bool = best_N_labels.eq(labels.view(-1, 1).expand_as(best_N_labels))\n",
    "    \n",
    "    # Compute the top N accuracy\n",
    "    correct = correct_bool.view(-1).float().sum(0, keepdim=True)\n",
    "    score = correct.mul_(100.0 / labels.size(0))\n",
    "    \n",
    "    return np.round(score.item(), 2)"
   ]
  },
  {
   "cell_type": "markdown",
   "id": "a9c311c0-6eb1-435a-aa08-f83cf8de0d8d",
   "metadata": {},
   "source": [
    "Attach these methods to the model."
   ]
  },
  {
   "cell_type": "code",
   "execution_count": 37,
   "id": "f19129ee-5a0d-4937-8eda-338ca5338162",
   "metadata": {},
   "outputs": [],
   "source": [
    "model.predict = predict.__get__(model)\n",
    "model.top_N_accuracy_score = top_N_accuracy_score.__get__(model)"
   ]
  },
  {
   "cell_type": "markdown",
   "id": "e8d74275-57ce-47a9-8de0-f34d73811b36",
   "metadata": {},
   "source": [
    "Find the top N accuracy for the test dataset for different values of N."
   ]
  },
  {
   "cell_type": "code",
   "execution_count": 25,
   "id": "e124eae8-12b9-4c85-a252-b55b27ea2ab8",
   "metadata": {},
   "outputs": [
    {
     "name": "stdout",
     "output_type": "stream",
     "text": [
      "N:1\tTop N Test Accuracy: 61.63%\n",
      "N:2\tTop N Test Accuracy: 71.54%\n",
      "N:3\tTop N Test Accuracy: 75.46%\n",
      "N:4\tTop N Test Accuracy: 77.95%\n",
      "N:5\tTop N Test Accuracy: 79.69%\n",
      "N:6\tTop N Test Accuracy: 81.1%\n",
      "N:7\tTop N Test Accuracy: 82.0%\n",
      "N:8\tTop N Test Accuracy: 82.81%\n",
      "N:9\tTop N Test Accuracy: 83.54%\n"
     ]
    }
   ],
   "source": [
    "for N in range(1,10):\n",
    "    print(f\"N:{N}\\tTop N Test Accuracy: {model.top_N_accuracy_score(dataset['test']['BODY'], dataset['test']['labels'], top_N=N)}%\")"
   ]
  },
  {
   "cell_type": "markdown",
   "id": "85fa2512-acf3-4308-b223-1f2feb4f5c11",
   "metadata": {},
   "source": [
    "We check the quality of top 3 predictions for a random sampling of the test set."
   ]
  },
  {
   "cell_type": "code",
   "execution_count": 52,
   "id": "e981393c-9e5d-4650-9143-be81bd176b8b",
   "metadata": {},
   "outputs": [
    {
     "data": {
      "text/html": [
       "<table border=\"1\" class=\"dataframe\">\n",
       "  <thead>\n",
       "    <tr style=\"text-align: right;\">\n",
       "      <th>True Labels</th>\n",
       "      <th>Prediction 1</th>\n",
       "      <th>Prediction 2</th>\n",
       "      <th>Prediction 3</th>\n",
       "    </tr>\n",
       "  </thead>\n",
       "  <tbody>\n",
       "    <tr>\n",
       "      <td>Maintenance and Repair Workers, General</td>\n",
       "      <td>Maintenance and Repair Workers, General</td>\n",
       "      <td>Industrial Engineering Technologists and Technicians</td>\n",
       "      <td>Industrial Machinery Mechanics</td>\n",
       "    </tr>\n",
       "    <tr>\n",
       "      <td>Hotel, Motel, and Resort Desk Clerks</td>\n",
       "      <td>Hotel, Motel, and Resort Desk Clerks</td>\n",
       "      <td>Medical Secretaries and Administrative Assistants</td>\n",
       "      <td>Office Clerks, General</td>\n",
       "    </tr>\n",
       "    <tr>\n",
       "      <td>Cargo and Freight Agents</td>\n",
       "      <td>Shipping, Receiving, and Inventory Clerks</td>\n",
       "      <td>Light Truck Drivers</td>\n",
       "      <td>Packers and Packagers, Hand</td>\n",
       "    </tr>\n",
       "    <tr>\n",
       "      <td>Food Service Managers</td>\n",
       "      <td>Food Service Managers</td>\n",
       "      <td>Lodging Managers</td>\n",
       "      <td>First-Line Supervisors of Food Preparation and Serving Workers</td>\n",
       "    </tr>\n",
       "    <tr>\n",
       "      <td>Customer Service Representatives</td>\n",
       "      <td>Customer Service Representatives</td>\n",
       "      <td>Sales Representatives of Services, Except Advertising, Insurance, Financial Services, and Travel</td>\n",
       "      <td>Patient Representatives</td>\n",
       "    </tr>\n",
       "    <tr>\n",
       "      <td>Marketing Managers</td>\n",
       "      <td>Marketing Managers</td>\n",
       "      <td>Sales Managers</td>\n",
       "      <td>General and Operations Managers</td>\n",
       "    </tr>\n",
       "    <tr>\n",
       "      <td>Computer and Information Research Scientists</td>\n",
       "      <td>Computer Systems Engineers/Architects</td>\n",
       "      <td>Engineers, All Other</td>\n",
       "      <td>Database Administrators</td>\n",
       "    </tr>\n",
       "    <tr>\n",
       "      <td>Fast Food and Counter Workers</td>\n",
       "      <td>Fast Food and Counter Workers</td>\n",
       "      <td>Retail Salespersons</td>\n",
       "      <td>Cashiers</td>\n",
       "    </tr>\n",
       "    <tr>\n",
       "      <td>Heavy and Tractor-Trailer Truck Drivers</td>\n",
       "      <td>Heavy and Tractor-Trailer Truck Drivers</td>\n",
       "      <td>Light Truck Drivers</td>\n",
       "      <td>Laborers and Freight, Stock, and Material Movers, Hand</td>\n",
       "    </tr>\n",
       "    <tr>\n",
       "      <td>Business Intelligence Analysts</td>\n",
       "      <td>Business Intelligence Analysts</td>\n",
       "      <td>Management Analysts</td>\n",
       "      <td>Human Resources Specialists</td>\n",
       "    </tr>\n",
       "    <tr>\n",
       "      <td>Quality Control Systems Managers</td>\n",
       "      <td>Quality Control Systems Managers</td>\n",
       "      <td>First-Line Supervisors of Production and Operating Workers</td>\n",
       "      <td>Quality Control Analysts</td>\n",
       "    </tr>\n",
       "    <tr>\n",
       "      <td>Managers, All Other</td>\n",
       "      <td>Managers, All Other</td>\n",
       "      <td>Social and Community Service Managers</td>\n",
       "      <td>Information Technology Project Managers</td>\n",
       "    </tr>\n",
       "    <tr>\n",
       "      <td>Unclassified</td>\n",
       "      <td>Inspectors, Testers, Sorters, Samplers, and Weighers</td>\n",
       "      <td>Quality Control Analysts</td>\n",
       "      <td>Software Quality Assurance Analysts and Testers</td>\n",
       "    </tr>\n",
       "    <tr>\n",
       "      <td>Lodging Managers</td>\n",
       "      <td>Light Truck Drivers</td>\n",
       "      <td>Heavy and Tractor-Trailer Truck Drivers</td>\n",
       "      <td>Cleaners of Vehicles and Equipment</td>\n",
       "    </tr>\n",
       "    <tr>\n",
       "      <td>Heavy and Tractor-Trailer Truck Drivers</td>\n",
       "      <td>Sales Representatives, Wholesale and Manufacturing, Except Technical and Scientific Products</td>\n",
       "      <td>Sales Representatives of Services, Except Advertising, Insurance, Financial Services, and Travel</td>\n",
       "      <td>Retail Salespersons</td>\n",
       "    </tr>\n",
       "    <tr>\n",
       "      <td>Accountants and Auditors</td>\n",
       "      <td>Accountants and Auditors</td>\n",
       "      <td>Bookkeeping, Accounting, and Auditing Clerks</td>\n",
       "      <td>Financial Managers</td>\n",
       "    </tr>\n",
       "    <tr>\n",
       "      <td>Food Service Managers</td>\n",
       "      <td>Food Service Managers</td>\n",
       "      <td>First-Line Supervisors of Food Preparation and Serving Workers</td>\n",
       "      <td>Quality Control Systems Managers</td>\n",
       "    </tr>\n",
       "    <tr>\n",
       "      <td>Heating, Air Conditioning, and Refrigeration Mechanics and Installers</td>\n",
       "      <td>Heating, Air Conditioning, and Refrigeration Mechanics and Installers</td>\n",
       "      <td>Electricians</td>\n",
       "      <td>Telecommunications Equipment Installers and Repairers, Except Line Installers</td>\n",
       "    </tr>\n",
       "    <tr>\n",
       "      <td>Heavy and Tractor-Trailer Truck Drivers</td>\n",
       "      <td>Light Truck Drivers</td>\n",
       "      <td>Heavy and Tractor-Trailer Truck Drivers</td>\n",
       "      <td>Automotive Service Technicians and Mechanics</td>\n",
       "    </tr>\n",
       "    <tr>\n",
       "      <td>Computer Systems Engineers/Architects</td>\n",
       "      <td>Computer Systems Engineers/Architects</td>\n",
       "      <td>Computer Systems Analysts</td>\n",
       "      <td>Software Developers</td>\n",
       "    </tr>\n",
       "    <tr>\n",
       "      <td>Database Administrators</td>\n",
       "      <td>Computer Systems Analysts</td>\n",
       "      <td>Software Developers</td>\n",
       "      <td>Database Administrators</td>\n",
       "    </tr>\n",
       "    <tr>\n",
       "      <td>Cost Estimators</td>\n",
       "      <td>Cost Estimators</td>\n",
       "      <td>Logisticians</td>\n",
       "      <td>Human Resources Specialists</td>\n",
       "    </tr>\n",
       "    <tr>\n",
       "      <td>Cost Estimators</td>\n",
       "      <td>Cost Estimators</td>\n",
       "      <td>Logisticians</td>\n",
       "      <td>Human Resources Specialists</td>\n",
       "    </tr>\n",
       "    <tr>\n",
       "      <td>Managers, All Other</td>\n",
       "      <td>First-Line Supervisors of Production and Operating Workers</td>\n",
       "      <td>Managers, All Other</td>\n",
       "      <td>First-Line Supervisors of Food Preparation and Serving Workers</td>\n",
       "    </tr>\n",
       "    <tr>\n",
       "      <td>Software Quality Assurance Analysts and Testers</td>\n",
       "      <td>Software Developers</td>\n",
       "      <td>Computer Systems Analysts</td>\n",
       "      <td>Computer Systems Engineers/Architects</td>\n",
       "    </tr>\n",
       "    <tr>\n",
       "      <td>Cardiologists</td>\n",
       "      <td>Cardiologists</td>\n",
       "      <td>Cardiovascular Technologists and Technicians</td>\n",
       "      <td>Physicians, All Other</td>\n",
       "    </tr>\n",
       "    <tr>\n",
       "      <td>Software Developers</td>\n",
       "      <td>Software Developers</td>\n",
       "      <td>Computer Systems Engineers/Architects</td>\n",
       "      <td>Web Developers</td>\n",
       "    </tr>\n",
       "    <tr>\n",
       "      <td>File Clerks</td>\n",
       "      <td>Data Entry Keyers</td>\n",
       "      <td>Medical Records Specialists</td>\n",
       "      <td>Bill and Account Collectors</td>\n",
       "    </tr>\n",
       "    <tr>\n",
       "      <td>Registered Nurses</td>\n",
       "      <td>Registered Nurses</td>\n",
       "      <td>Critical Care Nurses</td>\n",
       "      <td>Licensed Practical and Licensed Vocational Nurses</td>\n",
       "    </tr>\n",
       "    <tr>\n",
       "      <td>Production, Planning, and Expediting Clerks</td>\n",
       "      <td>First-Line Supervisors of Helpers, Laborers, and Material Movers, Hand</td>\n",
       "      <td>Transportation, Storage, and Distribution Managers</td>\n",
       "      <td>Industrial Truck and Tractor Operators</td>\n",
       "    </tr>\n",
       "  </tbody>\n",
       "</table>"
      ],
      "text/plain": [
       "<IPython.core.display.HTML object>"
      ]
     },
     "metadata": {},
     "output_type": "display_data"
    }
   ],
   "source": [
    "N = 3\n",
    "n_rows = 30\n",
    "test_sample = dataset[\"test\"].shuffle(seed=42).select(range(n_rows))\n",
    "\n",
    "ids_list, _, _ = model.predict(test_sample[\"BODY\"], top_N=N)\n",
    "values = []\n",
    "for i, ids in enumerate(ids_list):\n",
    "    row = [test_sample['ONET_NAME'][i]] + ids\n",
    "    values.append(row)\n",
    "results = pd.DataFrame(values, columns=[\"True Labels\"]+[f\"Prediction {i}\" for i in range(1,N+1)])\n",
    "display(HTML(results.to_html(index=False)))"
   ]
  },
  {
   "cell_type": "code",
   "execution_count": null,
   "id": "a335870b-78ab-4eaa-b4c3-10ee6fa5ed4e",
   "metadata": {},
   "outputs": [],
   "source": []
  }
 ],
 "metadata": {
  "kernelspec": {
   "display_name": "Python 3 (ipykernel)",
   "language": "python",
   "name": "python3"
  },
  "language_info": {
   "codemirror_mode": {
    "name": "ipython",
    "version": 3
   },
   "file_extension": ".py",
   "mimetype": "text/x-python",
   "name": "python",
   "nbconvert_exporter": "python",
   "pygments_lexer": "ipython3",
   "version": "3.10.13"
  }
 },
 "nbformat": 4,
 "nbformat_minor": 5
}
